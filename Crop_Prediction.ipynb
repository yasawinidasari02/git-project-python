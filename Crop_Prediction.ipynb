{
  "nbformat": 4,
  "nbformat_minor": 0,
  "metadata": {
    "colab": {
      "name": "Crop_Prediction.ipynb",
      "provenance": [],
      "collapsed_sections": [],
      "authorship_tag": "ABX9TyP9armQgIYHCqMm1MfenlIz",
      "include_colab_link": true
    },
    "kernelspec": {
      "name": "python3",
      "display_name": "Python 3"
    },
    "language_info": {
      "name": "python"
    }
  },
  "cells": [
    {
      "cell_type": "markdown",
      "metadata": {
        "id": "view-in-github",
        "colab_type": "text"
      },
      "source": [
        "<a href=\"https://colab.research.google.com/github/yasawinidasari02/python-git-project/blob/main/Crop_Prediction.ipynb\" target=\"_parent\"><img src=\"https://colab.research.google.com/assets/colab-badge.svg\" alt=\"Open In Colab\"/></a>"
      ]
    },
    {
      "cell_type": "code",
      "metadata": {
        "id": "MIZgWogC4mQo"
      },
      "source": [
        "import pandas as pd\n",
        "data=pd.read_csv('crop.csv')"
      ],
      "execution_count": 1,
      "outputs": []
    },
    {
      "cell_type": "code",
      "metadata": {
        "colab": {
          "base_uri": "https://localhost:8080/",
          "height": 419
        },
        "id": "fEvNkKtL6S_f",
        "outputId": "4441cd5d-eeea-4600-bdc7-ba7741e07e6a"
      },
      "source": [
        "data"
      ],
      "execution_count": 2,
      "outputs": [
        {
          "output_type": "execute_result",
          "data": {
            "text/html": [
              "<div>\n",
              "<style scoped>\n",
              "    .dataframe tbody tr th:only-of-type {\n",
              "        vertical-align: middle;\n",
              "    }\n",
              "\n",
              "    .dataframe tbody tr th {\n",
              "        vertical-align: top;\n",
              "    }\n",
              "\n",
              "    .dataframe thead th {\n",
              "        text-align: right;\n",
              "    }\n",
              "</style>\n",
              "<table border=\"1\" class=\"dataframe\">\n",
              "  <thead>\n",
              "    <tr style=\"text-align: right;\">\n",
              "      <th></th>\n",
              "      <th>N</th>\n",
              "      <th>P</th>\n",
              "      <th>K</th>\n",
              "      <th>temperature</th>\n",
              "      <th>humidity</th>\n",
              "      <th>ph</th>\n",
              "      <th>rainfall</th>\n",
              "      <th>label</th>\n",
              "    </tr>\n",
              "  </thead>\n",
              "  <tbody>\n",
              "    <tr>\n",
              "      <th>0</th>\n",
              "      <td>90</td>\n",
              "      <td>42</td>\n",
              "      <td>43</td>\n",
              "      <td>20.879744</td>\n",
              "      <td>82.002744</td>\n",
              "      <td>6.502985</td>\n",
              "      <td>202.935536</td>\n",
              "      <td>rice</td>\n",
              "    </tr>\n",
              "    <tr>\n",
              "      <th>1</th>\n",
              "      <td>85</td>\n",
              "      <td>58</td>\n",
              "      <td>41</td>\n",
              "      <td>21.770462</td>\n",
              "      <td>80.319644</td>\n",
              "      <td>7.038096</td>\n",
              "      <td>226.655537</td>\n",
              "      <td>rice</td>\n",
              "    </tr>\n",
              "    <tr>\n",
              "      <th>2</th>\n",
              "      <td>60</td>\n",
              "      <td>55</td>\n",
              "      <td>44</td>\n",
              "      <td>23.004459</td>\n",
              "      <td>82.320763</td>\n",
              "      <td>7.840207</td>\n",
              "      <td>263.964248</td>\n",
              "      <td>rice</td>\n",
              "    </tr>\n",
              "    <tr>\n",
              "      <th>3</th>\n",
              "      <td>74</td>\n",
              "      <td>35</td>\n",
              "      <td>40</td>\n",
              "      <td>26.491096</td>\n",
              "      <td>80.158363</td>\n",
              "      <td>6.980401</td>\n",
              "      <td>242.864034</td>\n",
              "      <td>rice</td>\n",
              "    </tr>\n",
              "    <tr>\n",
              "      <th>4</th>\n",
              "      <td>78</td>\n",
              "      <td>42</td>\n",
              "      <td>42</td>\n",
              "      <td>20.130175</td>\n",
              "      <td>81.604873</td>\n",
              "      <td>7.628473</td>\n",
              "      <td>262.717340</td>\n",
              "      <td>rice</td>\n",
              "    </tr>\n",
              "    <tr>\n",
              "      <th>...</th>\n",
              "      <td>...</td>\n",
              "      <td>...</td>\n",
              "      <td>...</td>\n",
              "      <td>...</td>\n",
              "      <td>...</td>\n",
              "      <td>...</td>\n",
              "      <td>...</td>\n",
              "      <td>...</td>\n",
              "    </tr>\n",
              "    <tr>\n",
              "      <th>2195</th>\n",
              "      <td>107</td>\n",
              "      <td>34</td>\n",
              "      <td>32</td>\n",
              "      <td>26.774637</td>\n",
              "      <td>66.413269</td>\n",
              "      <td>6.780064</td>\n",
              "      <td>177.774507</td>\n",
              "      <td>coffee</td>\n",
              "    </tr>\n",
              "    <tr>\n",
              "      <th>2196</th>\n",
              "      <td>99</td>\n",
              "      <td>15</td>\n",
              "      <td>27</td>\n",
              "      <td>27.417112</td>\n",
              "      <td>56.636362</td>\n",
              "      <td>6.086922</td>\n",
              "      <td>127.924610</td>\n",
              "      <td>coffee</td>\n",
              "    </tr>\n",
              "    <tr>\n",
              "      <th>2197</th>\n",
              "      <td>118</td>\n",
              "      <td>33</td>\n",
              "      <td>30</td>\n",
              "      <td>24.131797</td>\n",
              "      <td>67.225123</td>\n",
              "      <td>6.362608</td>\n",
              "      <td>173.322839</td>\n",
              "      <td>coffee</td>\n",
              "    </tr>\n",
              "    <tr>\n",
              "      <th>2198</th>\n",
              "      <td>117</td>\n",
              "      <td>32</td>\n",
              "      <td>34</td>\n",
              "      <td>26.272418</td>\n",
              "      <td>52.127394</td>\n",
              "      <td>6.758793</td>\n",
              "      <td>127.175293</td>\n",
              "      <td>coffee</td>\n",
              "    </tr>\n",
              "    <tr>\n",
              "      <th>2199</th>\n",
              "      <td>104</td>\n",
              "      <td>18</td>\n",
              "      <td>30</td>\n",
              "      <td>23.603016</td>\n",
              "      <td>60.396475</td>\n",
              "      <td>6.779833</td>\n",
              "      <td>140.937041</td>\n",
              "      <td>coffee</td>\n",
              "    </tr>\n",
              "  </tbody>\n",
              "</table>\n",
              "<p>2200 rows × 8 columns</p>\n",
              "</div>"
            ],
            "text/plain": [
              "        N   P   K  temperature   humidity        ph    rainfall   label\n",
              "0      90  42  43    20.879744  82.002744  6.502985  202.935536    rice\n",
              "1      85  58  41    21.770462  80.319644  7.038096  226.655537    rice\n",
              "2      60  55  44    23.004459  82.320763  7.840207  263.964248    rice\n",
              "3      74  35  40    26.491096  80.158363  6.980401  242.864034    rice\n",
              "4      78  42  42    20.130175  81.604873  7.628473  262.717340    rice\n",
              "...   ...  ..  ..          ...        ...       ...         ...     ...\n",
              "2195  107  34  32    26.774637  66.413269  6.780064  177.774507  coffee\n",
              "2196   99  15  27    27.417112  56.636362  6.086922  127.924610  coffee\n",
              "2197  118  33  30    24.131797  67.225123  6.362608  173.322839  coffee\n",
              "2198  117  32  34    26.272418  52.127394  6.758793  127.175293  coffee\n",
              "2199  104  18  30    23.603016  60.396475  6.779833  140.937041  coffee\n",
              "\n",
              "[2200 rows x 8 columns]"
            ]
          },
          "metadata": {},
          "execution_count": 2
        }
      ]
    },
    {
      "cell_type": "code",
      "metadata": {
        "id": "rKMvo6su6WFR"
      },
      "source": [
        "X =  data.iloc[:,0:-1].values\n",
        "Y =data.iloc[:,-1 ].values"
      ],
      "execution_count": 60,
      "outputs": []
    },
    {
      "cell_type": "code",
      "metadata": {
        "colab": {
          "base_uri": "https://localhost:8080/"
        },
        "id": "K33ffmM-KQvC",
        "outputId": "1f214b9b-7727-467c-ee2e-e77d854a2b4a"
      },
      "source": [
        "X"
      ],
      "execution_count": 61,
      "outputs": [
        {
          "output_type": "execute_result",
          "data": {
            "text/plain": [
              "array([[ 90.        ,  42.        ,  43.        , ...,  82.00274423,\n",
              "          6.50298529, 202.9355362 ],\n",
              "       [ 85.        ,  58.        ,  41.        , ...,  80.31964408,\n",
              "          7.03809636, 226.6555374 ],\n",
              "       [ 60.        ,  55.        ,  44.        , ...,  82.3207629 ,\n",
              "          7.84020714, 263.9642476 ],\n",
              "       ...,\n",
              "       [118.        ,  33.        ,  30.        , ...,  67.22512329,\n",
              "          6.36260785, 173.3228386 ],\n",
              "       [117.        ,  32.        ,  34.        , ...,  52.12739421,\n",
              "          6.75879255, 127.1752928 ],\n",
              "       [104.        ,  18.        ,  30.        , ...,  60.39647474,\n",
              "          6.77983261, 140.9370415 ]])"
            ]
          },
          "metadata": {},
          "execution_count": 61
        }
      ]
    },
    {
      "cell_type": "code",
      "metadata": {
        "colab": {
          "base_uri": "https://localhost:8080/"
        },
        "id": "G-e1OP1pKdTn",
        "outputId": "f0496d9b-9ed4-4f3b-9403-bd9a7d2094f6"
      },
      "source": [
        "Y"
      ],
      "execution_count": 62,
      "outputs": [
        {
          "output_type": "execute_result",
          "data": {
            "text/plain": [
              "array(['rice', 'rice', 'rice', ..., 'coffee', 'coffee', 'coffee'],\n",
              "      dtype=object)"
            ]
          },
          "metadata": {},
          "execution_count": 62
        }
      ]
    },
    {
      "cell_type": "code",
      "metadata": {
        "colab": {
          "base_uri": "https://localhost:8080/"
        },
        "id": "If5suS0M6grQ",
        "outputId": "611e6d18-2a8e-449b-e78c-968e80d331e7"
      },
      "source": [
        "len(pd.unique(Y))"
      ],
      "execution_count": 43,
      "outputs": [
        {
          "output_type": "execute_result",
          "data": {
            "text/plain": [
              "22"
            ]
          },
          "metadata": {},
          "execution_count": 43
        }
      ]
    },
    {
      "cell_type": "code",
      "metadata": {
        "colab": {
          "base_uri": "https://localhost:8080/",
          "height": 439
        },
        "id": "MF9LJSrW6oHJ",
        "outputId": "c268ecd7-5a79-47e0-ba13-4de808480239"
      },
      "source": [
        "k = pd.get_dummies(data.label)\n",
        "k\n"
      ],
      "execution_count": 63,
      "outputs": [
        {
          "output_type": "execute_result",
          "data": {
            "text/html": [
              "<div>\n",
              "<style scoped>\n",
              "    .dataframe tbody tr th:only-of-type {\n",
              "        vertical-align: middle;\n",
              "    }\n",
              "\n",
              "    .dataframe tbody tr th {\n",
              "        vertical-align: top;\n",
              "    }\n",
              "\n",
              "    .dataframe thead th {\n",
              "        text-align: right;\n",
              "    }\n",
              "</style>\n",
              "<table border=\"1\" class=\"dataframe\">\n",
              "  <thead>\n",
              "    <tr style=\"text-align: right;\">\n",
              "      <th></th>\n",
              "      <th>apple</th>\n",
              "      <th>banana</th>\n",
              "      <th>blackgram</th>\n",
              "      <th>chickpea</th>\n",
              "      <th>coconut</th>\n",
              "      <th>coffee</th>\n",
              "      <th>cotton</th>\n",
              "      <th>grapes</th>\n",
              "      <th>jute</th>\n",
              "      <th>kidneybeans</th>\n",
              "      <th>lentil</th>\n",
              "      <th>maize</th>\n",
              "      <th>mango</th>\n",
              "      <th>mothbeans</th>\n",
              "      <th>mungbean</th>\n",
              "      <th>muskmelon</th>\n",
              "      <th>orange</th>\n",
              "      <th>papaya</th>\n",
              "      <th>pigeonpeas</th>\n",
              "      <th>pomegranate</th>\n",
              "      <th>rice</th>\n",
              "      <th>watermelon</th>\n",
              "    </tr>\n",
              "  </thead>\n",
              "  <tbody>\n",
              "    <tr>\n",
              "      <th>0</th>\n",
              "      <td>0</td>\n",
              "      <td>0</td>\n",
              "      <td>0</td>\n",
              "      <td>0</td>\n",
              "      <td>0</td>\n",
              "      <td>0</td>\n",
              "      <td>0</td>\n",
              "      <td>0</td>\n",
              "      <td>0</td>\n",
              "      <td>0</td>\n",
              "      <td>0</td>\n",
              "      <td>0</td>\n",
              "      <td>0</td>\n",
              "      <td>0</td>\n",
              "      <td>0</td>\n",
              "      <td>0</td>\n",
              "      <td>0</td>\n",
              "      <td>0</td>\n",
              "      <td>0</td>\n",
              "      <td>0</td>\n",
              "      <td>1</td>\n",
              "      <td>0</td>\n",
              "    </tr>\n",
              "    <tr>\n",
              "      <th>1</th>\n",
              "      <td>0</td>\n",
              "      <td>0</td>\n",
              "      <td>0</td>\n",
              "      <td>0</td>\n",
              "      <td>0</td>\n",
              "      <td>0</td>\n",
              "      <td>0</td>\n",
              "      <td>0</td>\n",
              "      <td>0</td>\n",
              "      <td>0</td>\n",
              "      <td>0</td>\n",
              "      <td>0</td>\n",
              "      <td>0</td>\n",
              "      <td>0</td>\n",
              "      <td>0</td>\n",
              "      <td>0</td>\n",
              "      <td>0</td>\n",
              "      <td>0</td>\n",
              "      <td>0</td>\n",
              "      <td>0</td>\n",
              "      <td>1</td>\n",
              "      <td>0</td>\n",
              "    </tr>\n",
              "    <tr>\n",
              "      <th>2</th>\n",
              "      <td>0</td>\n",
              "      <td>0</td>\n",
              "      <td>0</td>\n",
              "      <td>0</td>\n",
              "      <td>0</td>\n",
              "      <td>0</td>\n",
              "      <td>0</td>\n",
              "      <td>0</td>\n",
              "      <td>0</td>\n",
              "      <td>0</td>\n",
              "      <td>0</td>\n",
              "      <td>0</td>\n",
              "      <td>0</td>\n",
              "      <td>0</td>\n",
              "      <td>0</td>\n",
              "      <td>0</td>\n",
              "      <td>0</td>\n",
              "      <td>0</td>\n",
              "      <td>0</td>\n",
              "      <td>0</td>\n",
              "      <td>1</td>\n",
              "      <td>0</td>\n",
              "    </tr>\n",
              "    <tr>\n",
              "      <th>3</th>\n",
              "      <td>0</td>\n",
              "      <td>0</td>\n",
              "      <td>0</td>\n",
              "      <td>0</td>\n",
              "      <td>0</td>\n",
              "      <td>0</td>\n",
              "      <td>0</td>\n",
              "      <td>0</td>\n",
              "      <td>0</td>\n",
              "      <td>0</td>\n",
              "      <td>0</td>\n",
              "      <td>0</td>\n",
              "      <td>0</td>\n",
              "      <td>0</td>\n",
              "      <td>0</td>\n",
              "      <td>0</td>\n",
              "      <td>0</td>\n",
              "      <td>0</td>\n",
              "      <td>0</td>\n",
              "      <td>0</td>\n",
              "      <td>1</td>\n",
              "      <td>0</td>\n",
              "    </tr>\n",
              "    <tr>\n",
              "      <th>4</th>\n",
              "      <td>0</td>\n",
              "      <td>0</td>\n",
              "      <td>0</td>\n",
              "      <td>0</td>\n",
              "      <td>0</td>\n",
              "      <td>0</td>\n",
              "      <td>0</td>\n",
              "      <td>0</td>\n",
              "      <td>0</td>\n",
              "      <td>0</td>\n",
              "      <td>0</td>\n",
              "      <td>0</td>\n",
              "      <td>0</td>\n",
              "      <td>0</td>\n",
              "      <td>0</td>\n",
              "      <td>0</td>\n",
              "      <td>0</td>\n",
              "      <td>0</td>\n",
              "      <td>0</td>\n",
              "      <td>0</td>\n",
              "      <td>1</td>\n",
              "      <td>0</td>\n",
              "    </tr>\n",
              "    <tr>\n",
              "      <th>...</th>\n",
              "      <td>...</td>\n",
              "      <td>...</td>\n",
              "      <td>...</td>\n",
              "      <td>...</td>\n",
              "      <td>...</td>\n",
              "      <td>...</td>\n",
              "      <td>...</td>\n",
              "      <td>...</td>\n",
              "      <td>...</td>\n",
              "      <td>...</td>\n",
              "      <td>...</td>\n",
              "      <td>...</td>\n",
              "      <td>...</td>\n",
              "      <td>...</td>\n",
              "      <td>...</td>\n",
              "      <td>...</td>\n",
              "      <td>...</td>\n",
              "      <td>...</td>\n",
              "      <td>...</td>\n",
              "      <td>...</td>\n",
              "      <td>...</td>\n",
              "      <td>...</td>\n",
              "    </tr>\n",
              "    <tr>\n",
              "      <th>2195</th>\n",
              "      <td>0</td>\n",
              "      <td>0</td>\n",
              "      <td>0</td>\n",
              "      <td>0</td>\n",
              "      <td>0</td>\n",
              "      <td>1</td>\n",
              "      <td>0</td>\n",
              "      <td>0</td>\n",
              "      <td>0</td>\n",
              "      <td>0</td>\n",
              "      <td>0</td>\n",
              "      <td>0</td>\n",
              "      <td>0</td>\n",
              "      <td>0</td>\n",
              "      <td>0</td>\n",
              "      <td>0</td>\n",
              "      <td>0</td>\n",
              "      <td>0</td>\n",
              "      <td>0</td>\n",
              "      <td>0</td>\n",
              "      <td>0</td>\n",
              "      <td>0</td>\n",
              "    </tr>\n",
              "    <tr>\n",
              "      <th>2196</th>\n",
              "      <td>0</td>\n",
              "      <td>0</td>\n",
              "      <td>0</td>\n",
              "      <td>0</td>\n",
              "      <td>0</td>\n",
              "      <td>1</td>\n",
              "      <td>0</td>\n",
              "      <td>0</td>\n",
              "      <td>0</td>\n",
              "      <td>0</td>\n",
              "      <td>0</td>\n",
              "      <td>0</td>\n",
              "      <td>0</td>\n",
              "      <td>0</td>\n",
              "      <td>0</td>\n",
              "      <td>0</td>\n",
              "      <td>0</td>\n",
              "      <td>0</td>\n",
              "      <td>0</td>\n",
              "      <td>0</td>\n",
              "      <td>0</td>\n",
              "      <td>0</td>\n",
              "    </tr>\n",
              "    <tr>\n",
              "      <th>2197</th>\n",
              "      <td>0</td>\n",
              "      <td>0</td>\n",
              "      <td>0</td>\n",
              "      <td>0</td>\n",
              "      <td>0</td>\n",
              "      <td>1</td>\n",
              "      <td>0</td>\n",
              "      <td>0</td>\n",
              "      <td>0</td>\n",
              "      <td>0</td>\n",
              "      <td>0</td>\n",
              "      <td>0</td>\n",
              "      <td>0</td>\n",
              "      <td>0</td>\n",
              "      <td>0</td>\n",
              "      <td>0</td>\n",
              "      <td>0</td>\n",
              "      <td>0</td>\n",
              "      <td>0</td>\n",
              "      <td>0</td>\n",
              "      <td>0</td>\n",
              "      <td>0</td>\n",
              "    </tr>\n",
              "    <tr>\n",
              "      <th>2198</th>\n",
              "      <td>0</td>\n",
              "      <td>0</td>\n",
              "      <td>0</td>\n",
              "      <td>0</td>\n",
              "      <td>0</td>\n",
              "      <td>1</td>\n",
              "      <td>0</td>\n",
              "      <td>0</td>\n",
              "      <td>0</td>\n",
              "      <td>0</td>\n",
              "      <td>0</td>\n",
              "      <td>0</td>\n",
              "      <td>0</td>\n",
              "      <td>0</td>\n",
              "      <td>0</td>\n",
              "      <td>0</td>\n",
              "      <td>0</td>\n",
              "      <td>0</td>\n",
              "      <td>0</td>\n",
              "      <td>0</td>\n",
              "      <td>0</td>\n",
              "      <td>0</td>\n",
              "    </tr>\n",
              "    <tr>\n",
              "      <th>2199</th>\n",
              "      <td>0</td>\n",
              "      <td>0</td>\n",
              "      <td>0</td>\n",
              "      <td>0</td>\n",
              "      <td>0</td>\n",
              "      <td>1</td>\n",
              "      <td>0</td>\n",
              "      <td>0</td>\n",
              "      <td>0</td>\n",
              "      <td>0</td>\n",
              "      <td>0</td>\n",
              "      <td>0</td>\n",
              "      <td>0</td>\n",
              "      <td>0</td>\n",
              "      <td>0</td>\n",
              "      <td>0</td>\n",
              "      <td>0</td>\n",
              "      <td>0</td>\n",
              "      <td>0</td>\n",
              "      <td>0</td>\n",
              "      <td>0</td>\n",
              "      <td>0</td>\n",
              "    </tr>\n",
              "  </tbody>\n",
              "</table>\n",
              "<p>2200 rows × 22 columns</p>\n",
              "</div>"
            ],
            "text/plain": [
              "      apple  banana  blackgram  ...  pomegranate  rice  watermelon\n",
              "0         0       0          0  ...            0     1           0\n",
              "1         0       0          0  ...            0     1           0\n",
              "2         0       0          0  ...            0     1           0\n",
              "3         0       0          0  ...            0     1           0\n",
              "4         0       0          0  ...            0     1           0\n",
              "...     ...     ...        ...  ...          ...   ...         ...\n",
              "2195      0       0          0  ...            0     0           0\n",
              "2196      0       0          0  ...            0     0           0\n",
              "2197      0       0          0  ...            0     0           0\n",
              "2198      0       0          0  ...            0     0           0\n",
              "2199      0       0          0  ...            0     0           0\n",
              "\n",
              "[2200 rows x 22 columns]"
            ]
          },
          "metadata": {},
          "execution_count": 63
        }
      ]
    },
    {
      "cell_type": "code",
      "metadata": {
        "colab": {
          "base_uri": "https://localhost:8080/"
        },
        "id": "prZuQFj3KtvH",
        "outputId": "e43b57cf-aa8e-4bcb-d0ce-9032808c8c59"
      },
      "source": [
        "y=k.values\n",
        "y"
      ],
      "execution_count": 64,
      "outputs": [
        {
          "output_type": "execute_result",
          "data": {
            "text/plain": [
              "array([[0, 0, 0, ..., 0, 1, 0],\n",
              "       [0, 0, 0, ..., 0, 1, 0],\n",
              "       [0, 0, 0, ..., 0, 1, 0],\n",
              "       ...,\n",
              "       [0, 0, 0, ..., 0, 0, 0],\n",
              "       [0, 0, 0, ..., 0, 0, 0],\n",
              "       [0, 0, 0, ..., 0, 0, 0]], dtype=uint8)"
            ]
          },
          "metadata": {},
          "execution_count": 64
        }
      ]
    },
    {
      "cell_type": "code",
      "metadata": {
        "id": "dgodsxCJ6qz6"
      },
      "source": [
        "from sklearn.preprocessing import StandardScaler\n",
        "sc = StandardScaler()\n",
        "X = sc.fit_transform(X)"
      ],
      "execution_count": 77,
      "outputs": []
    },
    {
      "cell_type": "code",
      "metadata": {
        "id": "5FjXU4St6919"
      },
      "source": [
        "from sklearn.model_selection import train_test_split\n",
        "X_train,X_test,Y_train,Y_test=train_test_split(X,Y,test_size=0.2)"
      ],
      "execution_count": 79,
      "outputs": []
    },
    {
      "cell_type": "code",
      "metadata": {
        "colab": {
          "base_uri": "https://localhost:8080/"
        },
        "id": "oh4B3ZpOK65h",
        "outputId": "8c97656d-a0ec-4b85-ca45-c820e05d2081"
      },
      "source": [
        "X_train"
      ],
      "execution_count": 80,
      "outputs": [
        {
          "output_type": "execute_result",
          "data": {
            "text/plain": [
              "array([[-0.28588785,  2.0206348 ,  2.93960185, ...,  0.94376434,\n",
              "        -0.74958392,  0.29428766],\n",
              "       [-0.63810601,  0.29222998, -0.57565467, ..., -2.25944746,\n",
              "        -1.17255486,  0.54103743],\n",
              "       [-1.04451159,  0.29222998, -0.61515194, ..., -2.34086563,\n",
              "        -0.97231046,  0.63610043],\n",
              "       ...,\n",
              "       [ 0.58111071, -0.40519653, -0.20043066, ...,  0.48188899,\n",
              "         1.45136474,  2.57867255],\n",
              "       [-0.63810601, -0.95100858, -0.37816835, ...,  0.92951865,\n",
              "        -0.60642879,  0.76354352],\n",
              "       [-0.52973119,  0.50449022,  0.56976599, ..., -2.56791771,\n",
              "         0.02981018, -0.23662135]])"
            ]
          },
          "metadata": {},
          "execution_count": 80
        }
      ]
    },
    {
      "cell_type": "code",
      "metadata": {
        "colab": {
          "base_uri": "https://localhost:8080/"
        },
        "id": "DxguRkiILtsV",
        "outputId": "d658a95c-d5e0-456c-ab14-e8ba4d24d13a"
      },
      "source": [
        "X_test"
      ],
      "execution_count": 81,
      "outputs": [
        {
          "output_type": "execute_result",
          "data": {
            "text/plain": [
              "array([[ 2.23382671, -0.19293629, -0.49666015, ...,  0.18597595,\n",
              "         0.46251264, -0.24939353],\n",
              "       [ 0.09342402,  0.26190709,  0.62901189, ..., -2.47503668,\n",
              "         1.31831921, -0.43690382],\n",
              "       [-0.44845008, -0.73874834, -0.79288963, ...,  0.88372893,\n",
              "        -0.02434827,  0.03421779],\n",
              "       ...,\n",
              "       [-0.61101231,  0.80771914, -0.61515194, ..., -2.37255318,\n",
              "        -0.85305388,  0.74060289],\n",
              "       [-0.50263749,  0.50449022, -0.55590604, ..., -1.13363117,\n",
              "        -0.33684379,  1.67630593],\n",
              "       [-1.1257927 ,  0.07996974, -0.61515194, ..., -0.21155088,\n",
              "        -0.26822492, -1.03703556]])"
            ]
          },
          "metadata": {},
          "execution_count": 81
        }
      ]
    },
    {
      "cell_type": "code",
      "metadata": {
        "id": "CBL1fVNv7LGH"
      },
      "source": [
        "from sklearn.neighbors import KNeighborsClassifier\n",
        "classifier=KNeighborsClassifier(n_neighbors=5)"
      ],
      "execution_count": 83,
      "outputs": []
    },
    {
      "cell_type": "code",
      "metadata": {
        "colab": {
          "base_uri": "https://localhost:8080/"
        },
        "id": "h2nkQ1B6MD_B",
        "outputId": "3a3c490c-e252-4bac-923c-608adad29c17"
      },
      "source": [
        "classifier.fit(X_train,Y_train)"
      ],
      "execution_count": 85,
      "outputs": [
        {
          "output_type": "execute_result",
          "data": {
            "text/plain": [
              "KNeighborsClassifier(algorithm='auto', leaf_size=30, metric='minkowski',\n",
              "                     metric_params=None, n_jobs=None, n_neighbors=5, p=2,\n",
              "                     weights='uniform')"
            ]
          },
          "metadata": {},
          "execution_count": 85
        }
      ]
    },
    {
      "cell_type": "code",
      "metadata": {
        "id": "vo-LxUvhMKZt"
      },
      "source": [
        "Y_pred=classifier.predict(X_test)"
      ],
      "execution_count": 86,
      "outputs": []
    },
    {
      "cell_type": "code",
      "metadata": {
        "colab": {
          "base_uri": "https://localhost:8080/"
        },
        "id": "bo5CN4nnMO5e",
        "outputId": "b9c0604c-d999-4d26-e484-6767bcff21bf"
      },
      "source": [
        "Y_pred"
      ],
      "execution_count": 87,
      "outputs": [
        {
          "output_type": "execute_result",
          "data": {
            "text/plain": [
              "array(['cotton', 'chickpea', 'orange', 'kidneybeans', 'kidneybeans',\n",
              "       'jute', 'maize', 'jute', 'banana', 'blackgram', 'orange', 'papaya',\n",
              "       'mothbeans', 'muskmelon', 'mungbean', 'muskmelon', 'apple',\n",
              "       'muskmelon', 'pigeonpeas', 'jute', 'blackgram', 'muskmelon',\n",
              "       'coffee', 'chickpea', 'pomegranate', 'banana', 'maize', 'rice',\n",
              "       'cotton', 'apple', 'mungbean', 'blackgram', 'kidneybeans',\n",
              "       'watermelon', 'jute', 'banana', 'coconut', 'grapes', 'chickpea',\n",
              "       'papaya', 'coconut', 'apple', 'lentil', 'pigeonpeas', 'apple',\n",
              "       'mango', 'watermelon', 'grapes', 'apple', 'maize', 'watermelon',\n",
              "       'cotton', 'banana', 'mango', 'muskmelon', 'chickpea', 'muskmelon',\n",
              "       'coconut', 'mothbeans', 'jute', 'coffee', 'coconut', 'mothbeans',\n",
              "       'watermelon', 'kidneybeans', 'muskmelon', 'blackgram', 'jute',\n",
              "       'apple', 'watermelon', 'cotton', 'coffee', 'watermelon', 'banana',\n",
              "       'blackgram', 'maize', 'watermelon', 'maize', 'jute', 'grapes',\n",
              "       'apple', 'watermelon', 'coconut', 'grapes', 'grapes', 'grapes',\n",
              "       'coffee', 'maize', 'banana', 'coconut', 'pomegranate',\n",
              "       'pigeonpeas', 'blackgram', 'banana', 'jute', 'pigeonpeas', 'jute',\n",
              "       'orange', 'muskmelon', 'chickpea', 'pigeonpeas', 'rice', 'cotton',\n",
              "       'jute', 'pomegranate', 'jute', 'banana', 'banana', 'grapes',\n",
              "       'watermelon', 'mungbean', 'lentil', 'papaya', 'kidneybeans',\n",
              "       'banana', 'apple', 'mungbean', 'mothbeans', 'mungbean',\n",
              "       'pomegranate', 'orange', 'chickpea', 'blackgram', 'lentil',\n",
              "       'coffee', 'mungbean', 'lentil', 'muskmelon', 'lentil', 'cotton',\n",
              "       'mungbean', 'banana', 'kidneybeans', 'jute', 'banana', 'papaya',\n",
              "       'grapes', 'mungbean', 'pigeonpeas', 'apple', 'coffee', 'banana',\n",
              "       'rice', 'coconut', 'apple', 'mungbean', 'jute', 'papaya',\n",
              "       'muskmelon', 'apple', 'watermelon', 'muskmelon', 'papaya', 'jute',\n",
              "       'banana', 'orange', 'chickpea', 'mango', 'jute', 'rice', 'maize',\n",
              "       'mango', 'coconut', 'lentil', 'grapes', 'cotton', 'blackgram',\n",
              "       'maize', 'coconut', 'lentil', 'apple', 'mothbeans', 'mothbeans',\n",
              "       'pomegranate', 'coconut', 'pomegranate', 'coffee', 'coconut',\n",
              "       'orange', 'banana', 'mango', 'orange', 'kidneybeans',\n",
              "       'pomegranate', 'coconut', 'muskmelon', 'coconut', 'apple', 'mango',\n",
              "       'grapes', 'kidneybeans', 'coffee', 'pomegranate', 'grapes',\n",
              "       'banana', 'papaya', 'mungbean', 'watermelon', 'cotton', 'coffee',\n",
              "       'cotton', 'coconut', 'maize', 'watermelon', 'banana',\n",
              "       'kidneybeans', 'jute', 'mango', 'jute', 'muskmelon', 'coconut',\n",
              "       'pomegranate', 'mango', 'mothbeans', 'blackgram', 'coffee',\n",
              "       'cotton', 'lentil', 'pigeonpeas', 'muskmelon', 'jute', 'lentil',\n",
              "       'muskmelon', 'pigeonpeas', 'pomegranate', 'banana', 'papaya',\n",
              "       'cotton', 'coconut', 'watermelon', 'cotton', 'rice', 'mothbeans',\n",
              "       'watermelon', 'mothbeans', 'muskmelon', 'banana', 'mango',\n",
              "       'pomegranate', 'grapes', 'maize', 'kidneybeans', 'lentil',\n",
              "       'coconut', 'maize', 'banana', 'muskmelon', 'pomegranate', 'coffee',\n",
              "       'lentil', 'jute', 'banana', 'maize', 'mothbeans', 'mango',\n",
              "       'mungbean', 'cotton', 'kidneybeans', 'kidneybeans', 'blackgram',\n",
              "       'jute', 'pomegranate', 'pigeonpeas', 'maize', 'coffee', 'rice',\n",
              "       'grapes', 'kidneybeans', 'coffee', 'maize', 'mungbean', 'cotton',\n",
              "       'grapes', 'mungbean', 'apple', 'coffee', 'jute', 'coffee',\n",
              "       'kidneybeans', 'papaya', 'lentil', 'pomegranate', 'orange',\n",
              "       'grapes', 'banana', 'rice', 'jute', 'papaya', 'banana',\n",
              "       'kidneybeans', 'cotton', 'grapes', 'kidneybeans', 'papaya',\n",
              "       'papaya', 'apple', 'lentil', 'jute', 'watermelon', 'papaya',\n",
              "       'kidneybeans', 'papaya', 'cotton', 'apple', 'coffee', 'maize',\n",
              "       'papaya', 'orange', 'watermelon', 'mungbean', 'cotton', 'jute',\n",
              "       'orange', 'pomegranate', 'chickpea', 'mungbean', 'blackgram',\n",
              "       'coconut', 'lentil', 'maize', 'papaya', 'papaya', 'maize',\n",
              "       'watermelon', 'coffee', 'pigeonpeas', 'apple', 'blackgram',\n",
              "       'papaya', 'coconut', 'coffee', 'muskmelon', 'pigeonpeas', 'papaya',\n",
              "       'pomegranate', 'rice', 'pigeonpeas', 'papaya', 'lentil', 'papaya',\n",
              "       'mango', 'jute', 'chickpea', 'jute', 'mungbean', 'coconut', 'rice',\n",
              "       'rice', 'cotton', 'jute', 'apple', 'pomegranate', 'pomegranate',\n",
              "       'papaya', 'apple', 'lentil', 'watermelon', 'mothbeans', 'chickpea',\n",
              "       'rice', 'pomegranate', 'coconut', 'pigeonpeas', 'cotton', 'grapes',\n",
              "       'apple', 'coffee', 'blackgram', 'coffee', 'papaya', 'maize',\n",
              "       'jute', 'muskmelon', 'grapes', 'mothbeans', 'mungbean',\n",
              "       'mothbeans', 'apple', 'cotton', 'mango', 'jute', 'apple', 'maize',\n",
              "       'mango', 'pomegranate', 'blackgram', 'kidneybeans', 'jute',\n",
              "       'watermelon', 'blackgram', 'kidneybeans', 'mungbean', 'coffee',\n",
              "       'maize', 'banana', 'chickpea', 'banana', 'jute', 'watermelon',\n",
              "       'coconut', 'coffee', 'cotton', 'pigeonpeas', 'coffee', 'mango',\n",
              "       'rice', 'mothbeans', 'coffee', 'pigeonpeas', 'lentil', 'papaya',\n",
              "       'jute', 'blackgram', 'apple', 'watermelon', 'lentil', 'pigeonpeas',\n",
              "       'blackgram', 'jute', 'mothbeans', 'kidneybeans', 'apple', 'mango',\n",
              "       'pomegranate', 'mungbean', 'grapes', 'blackgram', 'pomegranate',\n",
              "       'blackgram', 'papaya', 'rice', 'mango', 'pomegranate', 'jute',\n",
              "       'mungbean', 'chickpea', 'mango', 'kidneybeans', 'pigeonpeas',\n",
              "       'lentil'], dtype=object)"
            ]
          },
          "metadata": {},
          "execution_count": 87
        }
      ]
    },
    {
      "cell_type": "code",
      "metadata": {
        "colab": {
          "base_uri": "https://localhost:8080/"
        },
        "id": "hXGe0OdKMTF5",
        "outputId": "b548b5ea-0ede-4d87-91ce-bfe758efce97"
      },
      "source": [
        "from sklearn.metrics import accuracy_score\n",
        "print(accuracy_score(Y_test,Y_pred))"
      ],
      "execution_count": 89,
      "outputs": [
        {
          "output_type": "stream",
          "name": "stdout",
          "text": [
            "0.9886363636363636\n"
          ]
        }
      ]
    },
    {
      "cell_type": "code",
      "metadata": {
        "colab": {
          "base_uri": "https://localhost:8080/"
        },
        "id": "bNMIVM4R7ONZ",
        "outputId": "e9a131fa-f705-4609-dfb8-2f2eb51b6349"
      },
      "source": [
        "!pip install flask_ngrok"
      ],
      "execution_count": 48,
      "outputs": [
        {
          "output_type": "stream",
          "name": "stdout",
          "text": [
            "Requirement already satisfied: flask_ngrok in /usr/local/lib/python3.7/dist-packages (0.0.25)\n",
            "Requirement already satisfied: Flask>=0.8 in /usr/local/lib/python3.7/dist-packages (from flask_ngrok) (1.1.4)\n",
            "Requirement already satisfied: requests in /usr/local/lib/python3.7/dist-packages (from flask_ngrok) (2.23.0)\n",
            "Requirement already satisfied: Jinja2<3.0,>=2.10.1 in /usr/local/lib/python3.7/dist-packages (from Flask>=0.8->flask_ngrok) (2.11.3)\n",
            "Requirement already satisfied: Werkzeug<2.0,>=0.15 in /usr/local/lib/python3.7/dist-packages (from Flask>=0.8->flask_ngrok) (1.0.1)\n",
            "Requirement already satisfied: itsdangerous<2.0,>=0.24 in /usr/local/lib/python3.7/dist-packages (from Flask>=0.8->flask_ngrok) (1.1.0)\n",
            "Requirement already satisfied: click<8.0,>=5.1 in /usr/local/lib/python3.7/dist-packages (from Flask>=0.8->flask_ngrok) (7.1.2)\n",
            "Requirement already satisfied: MarkupSafe>=0.23 in /usr/local/lib/python3.7/dist-packages (from Jinja2<3.0,>=2.10.1->Flask>=0.8->flask_ngrok) (2.0.1)\n",
            "Requirement already satisfied: urllib3!=1.25.0,!=1.25.1,<1.26,>=1.21.1 in /usr/local/lib/python3.7/dist-packages (from requests->flask_ngrok) (1.24.3)\n",
            "Requirement already satisfied: chardet<4,>=3.0.2 in /usr/local/lib/python3.7/dist-packages (from requests->flask_ngrok) (3.0.4)\n",
            "Requirement already satisfied: idna<3,>=2.5 in /usr/local/lib/python3.7/dist-packages (from requests->flask_ngrok) (2.10)\n",
            "Requirement already satisfied: certifi>=2017.4.17 in /usr/local/lib/python3.7/dist-packages (from requests->flask_ngrok) (2021.10.8)\n"
          ]
        }
      ]
    },
    {
      "cell_type": "code",
      "metadata": {
        "colab": {
          "base_uri": "https://localhost:8080/"
        },
        "id": "YBlHbraXMN9a",
        "outputId": "2c88a510-6bd0-4589-ab40-d3e182ac70b7"
      },
      "source": [
        "from flask import Flask,render_template,request\n",
        "from flask_ngrok import run_with_ngrok\n",
        "app=Flask(__name__)\n",
        "run_with_ngrok(app)\n",
        "@app.route('/')\n",
        "def homepage():\n",
        "  return render_template('crop.html')\n",
        "\n",
        "if __name__=='__main__':\n",
        "  app.run()"
      ],
      "execution_count": 91,
      "outputs": [
        {
          "output_type": "stream",
          "name": "stdout",
          "text": [
            " * Serving Flask app \"__main__\" (lazy loading)\n",
            " * Environment: production\n",
            "\u001b[31m   WARNING: This is a development server. Do not use it in a production deployment.\u001b[0m\n",
            "\u001b[2m   Use a production WSGI server instead.\u001b[0m\n",
            " * Debug mode: off\n"
          ]
        },
        {
          "output_type": "stream",
          "name": "stderr",
          "text": [
            " * Running on http://127.0.0.1:5000/ (Press CTRL+C to quit)\n"
          ]
        },
        {
          "output_type": "stream",
          "name": "stdout",
          "text": [
            " * Running on http://358d-35-199-166-196.ngrok.io\n",
            " * Traffic stats available on http://127.0.0.1:4040\n"
          ]
        },
        {
          "output_type": "stream",
          "name": "stderr",
          "text": [
            "127.0.0.1 - - [12/Nov/2021 17:29:07] \"\u001b[37mGET / HTTP/1.1\u001b[0m\" 200 -\n",
            "127.0.0.1 - - [12/Nov/2021 17:29:08] \"\u001b[33mGET /favicon.ico HTTP/1.1\u001b[0m\" 404 -\n",
            "127.0.0.1 - - [12/Nov/2021 17:29:09] \"\u001b[37mGET / HTTP/1.1\u001b[0m\" 200 -\n",
            "127.0.0.1 - - [12/Nov/2021 17:29:14] \"\u001b[31m\u001b[1mPOST / HTTP/1.1\u001b[0m\" 405 -\n"
          ]
        }
      ]
    },
    {
      "cell_type": "code",
      "metadata": {
        "colab": {
          "base_uri": "https://localhost:8080/"
        },
        "id": "vXibiMqJMmRo",
        "outputId": "136c1f5e-5d4d-416f-d56d-98366bde18b9"
      },
      "source": [
        "from flask import Flask,render_template,request\n",
        "from flask_ngrok import run_with_ngrok\n",
        "app=Flask(__name__)\n",
        "run_with_ngrok(app)\n",
        "@app.route('/')\n",
        "def homepage():\n",
        "  return render_template('crop.html')\n",
        "@app.route('/',methods=['POST'])\n",
        "def collectdata():\n",
        "  n=request.form['n']\n",
        "  p=request.form['p']\n",
        "  k=request.form['k']\n",
        "  temp=request.form['temp']\n",
        "  humidity=request.form['humidity']\n",
        "  ph=request.form['ph']\n",
        "  rainfall=request.form['rainfall']\n",
        "  print(n,p,k,temp,humidity,ph,rainfall)\n",
        "  return render_template('crop.html')\n",
        "if __name__=='__main__':\n",
        "  app.run()"
      ],
      "execution_count": 92,
      "outputs": [
        {
          "output_type": "stream",
          "name": "stdout",
          "text": [
            " * Serving Flask app \"__main__\" (lazy loading)\n",
            " * Environment: production\n",
            "\u001b[31m   WARNING: This is a development server. Do not use it in a production deployment.\u001b[0m\n",
            "\u001b[2m   Use a production WSGI server instead.\u001b[0m\n",
            " * Debug mode: off\n"
          ]
        },
        {
          "output_type": "stream",
          "name": "stderr",
          "text": [
            " * Running on http://127.0.0.1:5000/ (Press CTRL+C to quit)\n"
          ]
        },
        {
          "output_type": "stream",
          "name": "stdout",
          "text": [
            " * Running on http://a679-35-199-166-196.ngrok.io\n",
            " * Traffic stats available on http://127.0.0.1:4040\n"
          ]
        },
        {
          "output_type": "stream",
          "name": "stderr",
          "text": [
            "127.0.0.1 - - [12/Nov/2021 17:29:42] \"\u001b[37mGET / HTTP/1.1\u001b[0m\" 200 -\n",
            "127.0.0.1 - - [12/Nov/2021 17:29:42] \"\u001b[33mGET /favicon.ico HTTP/1.1\u001b[0m\" 404 -\n",
            "127.0.0.1 - - [12/Nov/2021 17:29:44] \"\u001b[37mGET / HTTP/1.1\u001b[0m\" 200 -\n",
            "127.0.0.1 - - [12/Nov/2021 17:30:09] \"\u001b[37mPOST / HTTP/1.1\u001b[0m\" 200 -\n"
          ]
        },
        {
          "output_type": "stream",
          "name": "stdout",
          "text": [
            "123.23 343.456 342.324 234.325 35.3252354 457683257.43 53454.345\n"
          ]
        }
      ]
    }
  ]
}